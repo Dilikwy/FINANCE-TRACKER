{
  "nbformat": 4,
  "nbformat_minor": 0,
  "metadata": {
    "colab": {
      "provenance": []
    },
    "kernelspec": {
      "name": "python3",
      "display_name": "Python 3"
    },
    "language_info": {
      "name": "python"
    }
  },
  "cells": [
    {
      "cell_type": "code",
      "execution_count": 1,
      "metadata": {
        "id": "-Y7RM2mKaev_"
      },
      "outputs": [],
      "source": [
        "import pandas as pd"
      ]
    },
    {
      "cell_type": "code",
      "source": [
        "class FinanceTracker:\n",
        "    def __init__(self, budget):\n",
        "        self.budget = budget\n",
        "        self.transactions = pd.DataFrame(columns=['date', 'category', 'description', 'amount'])\n",
        "\n",
        "    def add_transactions(self, date, category, description, amount):\n",
        "      if isinstance(amount,(int, float)):\n",
        "        new_transaction = pd.DataFrame({'date': [date],\n",
        "                                        'category': [category],\n",
        "                                        'description': [description],\n",
        "                                        'amount': [amount]})\n",
        "        self.transactions = pd.concat([self.transactions, new_transaction], ignore_index=True)\n",
        "        return \"Transaction added succesfully\"\n",
        "      else:\n",
        "        return \"Transaction amount must be number\"\n",
        "\n",
        "    def get_transactions(self, category = None):\n",
        "        if category:\n",
        "            return self.transactions[self.transactions['category'] == category]\n",
        "        return self.transactions\n",
        "\n",
        "    def get_total_spending(self, category):\n",
        "        if category:\n",
        "           return self.transactions[self.transactions['category'] == category]['amount'].sum()\n",
        "        return self.transactions['amount'].sum()\n",
        "\n",
        "    def get_budget_balance(self):\n",
        "      balance = self.budget - self.transactions['amount'].sum()\n",
        "      if balance < 0:\n",
        "        return f'Budget exceeded: {balance}'\n",
        "      return f'Expenses is within Budget: {balance}'\n",
        "\n",
        "# Testing created class\n",
        "\n",
        "obj = FinanceTracker(40)\n",
        "\n",
        "obj.add_transactions('2024-02-02', 'Stationary', 'Buying books', 20)\n",
        "obj.add_transactions('2024-02-02', 'Stationary', 'Buying pen', 10)\n",
        "obj.add_transactions('2024-02-04', 'Groceries', 'Bought sugar', 4)\n",
        "obj.add_transactions('2024-02-04', 'Groceries', 'Bought salt', 10)\n",
        "\n",
        "obj.get_transactions(category = 'Stationary')\n",
        "obj.get_total_spending(category = 'Stationary')\n",
        "obj.get_budget_balance()"
      ],
      "metadata": {
        "colab": {
          "base_uri": "https://localhost:8080/",
          "height": 35
        },
        "id": "8bukua3pbZof",
        "outputId": "68b81f8e-e770-4ee1-af3e-b830e7f38a13"
      },
      "execution_count": 7,
      "outputs": [
        {
          "output_type": "execute_result",
          "data": {
            "text/plain": [
              "'Budget exceeded: -4'"
            ],
            "application/vnd.google.colaboratory.intrinsic+json": {
              "type": "string"
            }
          },
          "metadata": {},
          "execution_count": 7
        }
      ]
    }
  ]
}